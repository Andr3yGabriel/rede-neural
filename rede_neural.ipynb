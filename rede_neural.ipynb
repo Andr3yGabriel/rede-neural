{
 "cells": [
  {
   "cell_type": "code",
   "execution_count": 61,
   "id": "f93d4fca",
   "metadata": {},
   "outputs": [],
   "source": [
    "import numpy as np\n",
    "import torch\n",
    "import torch.nn.functional as F\n",
    "import torchvision\n",
    "import matplotlib.pyplot as plt\n",
    "from time import time\n",
    "from torch import nn, optim\n",
    "from torchvision import datasets, transforms"
   ]
  },
  {
   "cell_type": "code",
   "execution_count": 62,
   "id": "778f49db",
   "metadata": {},
   "outputs": [],
   "source": [
    "transforms = transforms.ToTensor()\n",
    "\n",
    "trainset = datasets.MNIST('./data', download=True, train=True, transform=transforms)\n",
    "trainloader = torch.utils.data.DataLoader(trainset, batch_size=64, shuffle=True)\n",
    "\n",
    "valset = datasets.MNIST('./data', download=True, train=False, transform=transforms)\n",
    "valloader = torch.utils.data.DataLoader(valset, batch_size=64, shuffle=True)"
   ]
  },
  {
   "cell_type": "code",
   "execution_count": 63,
   "id": "7e62953d",
   "metadata": {},
   "outputs": [
    {
     "data": {
      "text/plain": [
       "<matplotlib.image.AxesImage at 0x2a881c846e0>"
      ]
     },
     "execution_count": 63,
     "metadata": {},
     "output_type": "execute_result"
    },
    {
     "data": {
      "image/png": "[encoded data removed]",
      "text/plain": [
       "<Figure size 640x480 with 1 Axes>"
      ]
     },
     "metadata": {},
     "output_type": "display_data"
    }
   ],
   "source": [
    "dataiter = iter(trainloader)\n",
    "images, etiquetas = next(dataiter)\n",
    "plt.imshow(images[0].numpy().squeeze(), cmap='gray_r')"
   ]
  },
  {
   "cell_type": "code",
   "execution_count": 64,
   "id": "6a3602e5",
   "metadata": {},
   "outputs": [
    {
     "name": "stdout",
     "output_type": "stream",
     "text": [
      "torch.Size([1, 28, 28])\n",
      "torch.Size([])\n"
     ]
    }
   ],
   "source": [
    "print(images[0].shape) #Verificando as dimensões do tensor de cada imagem\n",
    "print(etiquetas[0].shape) #Verificando as dimensões do tensor de cada etiqueta"
   ]
  },
  {
   "cell_type": "code",
   "execution_count": 65,
   "id": "f6d471d3",
   "metadata": {},
   "outputs": [],
   "source": [
    "class Modelo(nn.Module):\n",
    "    def __init__(self):\n",
    "        super(Modelo, self).__init__()\n",
    "        self.linear1 = nn.Linear(28*28, 128) #Camada de entrada, 748 neurônios se ligam a 128\n",
    "        self.linear2 = nn.Linear(128, 64) #Camada interna 1, 128 neurônios se ligam a 64\n",
    "        self.linear3 = nn.Linear(64, 10) #Camada interna 2, 64 neurônios se ligam a 10\n",
    "        # para a camada de saida não é necessário definir nada pois só precisamos pegar o output da camada interna 2\n",
    "        \n",
    "    def forward(self, X):\n",
    "        X = F.relu(self.linear1(X)) # função de ativação da camada de entrada para a camada interna 1\n",
    "        X = F.relu(self.linear2(X)) # função de ativação da camada interna 1 para a camada interna 2\n",
    "        X = self.linear3(X) # função de ativação da camada interna 2 para a camada de saída, nesse caso f(x) = x\n",
    "        return F.log_softmax(X, dim=1) # dados utilizados para calcular a perda"
   ]
  },
  {
   "cell_type": "code",
   "execution_count": 66,
   "id": "80a218ce",
   "metadata": {},
   "outputs": [],
   "source": [
    "def treino(modelo, trainloader, device):\n",
    "    otimizador = optim.SGD(modelo.parameters(), lr=0.01, momentum=0.9) # define a política de atualização dos pesos e da bias\n",
    "    inicio = time() # inicia o cronômetro\n",
    "    \n",
    "    criterio = nn.NLLLoss() # define o criterio para calcular a perda\n",
    "    EPOCHS = 10 # numero de epochs que o algoritmo rodará\n",
    "    modelo.train() # coloca o modelo em modo de treinamento\n",
    "    \n",
    "    for epoch in range(EPOCHS):\n",
    "        perda_acumulada = 0 # inicialização da perda acumulada da epoch em questão\n",
    "        \n",
    "        for imagens, etiquetas in trainloader:\n",
    "            imagens = imagens.view(imagens.shape[0], -1) # convertendo as imagens para vetores de 28*28 casas para ficarem compativeis com a rede neural\n",
    "            otimizador.zero_grad() # zerando os gradientes por conta do ciclo anterior\n",
    "            \n",
    "            output = modelo(imagens.to(device)) # colocando os dados no modelo\n",
    "            perda_instantanea = criterio(output, etiquetas.to(device)) # calculando a perda da epoch em questão\n",
    "            \n",
    "            perda_instantanea.backward() # back propagation a partir da perda\n",
    "            \n",
    "            otimizador.step() # atualizando os pesos e a bias\n",
    "            \n",
    "            perda_acumulada += perda_instantanea.item() # atualização da perda acumulada\n",
    "            \n",
    "    else:\n",
    "        print(f\"Epoch {epoch+1}/{EPOCHS} - Perda: {perda_acumulada/len(trainloader)}\")\n",
    "    print(\"\\nTempo de treino: \", time()-inicio)"
   ]
  },
  {
   "cell_type": "code",
   "execution_count": 67,
   "id": "1ad9fe88",
   "metadata": {},
   "outputs": [],
   "source": [
    "def validacao(modelo, valloader, device):\n",
    "    conta_corretas, conta_total, conta_incorretas = 0, 0, 0\n",
    "    for imagens, etiquetas in valloader:\n",
    "        for i in range(len(etiquetas)):\n",
    "            img = imagens[i].view(1, 784) \n",
    "            # desativar o autograd para acelerar a validação. Grafos computacionais dinâmicos tem um custo alto de processamento\n",
    "            with torch.no_grad():\n",
    "                logps = modelo(img.to(device)) # output do modelo em escala logaritmica\n",
    "                \n",
    "            ps = torch.exp(logps) # convertendo o output do modelo para a escala normal (lembrando que é um tensor)\n",
    "            probab = list(ps.cpu().numpy()[0])\n",
    "            etiqueta_pred = probab.index(max(probab)) # converte o tensor em um número, no caso, o número que o modelo previu como correto\n",
    "            etiqueta_certa = etiquetas.numpy()[i]\n",
    "            \n",
    "            if etiqueta_certa != etiqueta_pred:\n",
    "                conta_incorretas += 1\n",
    "            \n",
    "            if (etiqueta_certa == etiqueta_pred):\n",
    "                conta_corretas += 1\n",
    "            conta_total += 1\n",
    "            \n",
    "    print(\"Total de imagens testadas = \", conta_total)\n",
    "    print(\"\\nPrecisão do modelo = {}%\".format(100*conta_corretas/conta_total))\n",
    "    print(\"Total de imagens incorretas = \", conta_incorretas)"
   ]
  },
  {
   "cell_type": "code",
   "execution_count": 69,
   "id": "1c1306e9",
   "metadata": {},
   "outputs": [
    {
     "name": "stdout",
     "output_type": "stream",
     "text": [
      "Epoch 10/10 - Perda: 0.037833731997061144\n",
      "\n",
      "Tempo de treino:  63.84479784965515\n",
      "Total de imagens testadas =  10000\n",
      "\n",
      "Precisão do modelo = 97.8%\n",
      "Total de imagens incorretas =  220\n"
     ]
    }
   ],
   "source": [
    "modelo = Modelo()\n",
    "\n",
    "device = torch.device(\"cuda\" if torch.cuda.is_available() else \"cpu\") # verifica se a GPU está disponível e define o dispositivo\n",
    "modelo.to(device) # coloca o modelo no dispositivo definido acima\n",
    "\n",
    "treino(modelo, trainloader, device) # treina o modelo\n",
    "validacao(modelo, valloader, device) # valida o modelo"
   ]
  },
  {
   "cell_type": "markdown",
   "id": "58d90948",
   "metadata": {},
   "source": []
  }
 ],
 "metadata": {
  "kernelspec": {
   "display_name": ".venv",
   "language": "python",
   "name": "python3"
  },
  "language_info": {
   "codemirror_mode": {
    "name": "ipython",
    "version": 3
   },
   "file_extension": ".py",
   "mimetype": "text/x-python",
   "name": "python",
   "nbconvert_exporter": "python",
   "pygments_lexer": "ipython3",
   "version": "3.12.9"
  }
 },
 "nbformat": 4,
 "nbformat_minor": 5
}
